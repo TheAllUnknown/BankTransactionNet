{
 "cells": [
  {
   "cell_type": "code",
   "execution_count": 1,
   "metadata": {},
   "outputs": [],
   "source": [
    "import pandas as pd\n",
    "import numpy as np\n",
    "import networkx as nx\n",
    "import seaborn as sns\n",
    "import matplotlib.pyplot as plt \n",
    "from collections import Counter \n",
    "from typing import Literal, Union, Optional, List\n",
    "import utils"
   ]
  },
  {
   "cell_type": "code",
   "execution_count": 3,
   "metadata": {},
   "outputs": [
    {
     "name": "stdout",
     "output_type": "stream",
     "text": [
      "The libra |N|: 385100\n",
      "The rabo |N|: 1624030\n"
     ]
    }
   ],
   "source": [
    "libra_df = pd.read_csv('data/Libra.csv')\n",
    "libra_G = nx.from_pandas_edgelist(libra_df,source = 'Source', target = 'Target', edge_attr=True,create_using=nx.DiGraph)\n",
    "print('The libra |N|:',libra_G.number_of_nodes())\n",
    "\n",
    "\n",
    "rabo_G = nx.read_edgelist('data/rabo_easylabel.edgelist',data=((\"Total\",float),(\"Count\", int)), create_using=nx.DiGraph)\n",
    "print('The rabo |N|:',rabo_G.number_of_nodes())\n",
    "rabo_df = nx.to_pandas_edgelist(rabo_G,source='Source',target='Target')"
   ]
  },
  {
   "cell_type": "code",
   "execution_count": 13,
   "metadata": {},
   "outputs": [],
   "source": [
    "def show_basics(G,df):\n",
    "    N  = G.number_of_nodes()\n",
    "    print('|N|: ', G.number_of_nodes())\n",
    "    print('|E|: ', G.number_of_edges())\n",
    "    print('|W_T|: ', df['Total'].sum())\n",
    "    print('|W_C|: ', df['Count'].sum())\n",
    "    print('reciprocity: ', nx.reciprocity(G))\n",
    "    print('average clustering coef: ',nx.approximation.average_clustering(nx.Graph(G),trials=int(0.01*N),seed=101))\n",
    "\n",
    "\n",
    "    degrees = [degree for node, degree in G.degree()]\n",
    "    avg_degree = sum(degrees) / G.number_of_nodes()\n",
    "    print('average degree: ', avg_degree)\n",
    "\n",
    "    df.groupby('Source').size().reset_index()\n",
    "    source = set(df.groupby('Source').size().reset_index()['Source'])\n",
    "    target = set(df.groupby('Target').size().reset_index()['Target'])\n",
    "    print('number of nodes who have at least one out_degree:',len(source))\n",
    "    print('number of nodes who have at least one in_degree:',len(target))\n",
    "    print('intersection of the above two: ', len(source&target))\n",
    "\n",
    "\n",
    "\n"
   ]
  },
  {
   "cell_type": "code",
   "execution_count": 15,
   "metadata": {},
   "outputs": [
    {
     "name": "stdout",
     "output_type": "stream",
     "text": [
      "|N|:  1624030\n",
      "|E|:  3823167\n",
      "|W_T|:  291294725973.0\n",
      "|W_C|:  110609151\n",
      "reciprocity:  0.26319697779354134\n",
      "average clustering coef:  0.020997536945812807\n",
      "average degree:  4.708246768840477\n",
      "number of nodes who have at least one out_degree: 1300207\n",
      "number of nodes who have at least one in_degree: 690490\n",
      "intersection of the above two:  366667\n"
     ]
    }
   ],
   "source": [
    "show_basics(rabo_G,rabo_df)"
   ]
  }
 ],
 "metadata": {
  "kernelspec": {
   "display_name": "base",
   "language": "python",
   "name": "python3"
  },
  "language_info": {
   "codemirror_mode": {
    "name": "ipython",
    "version": 3
   },
   "file_extension": ".py",
   "mimetype": "text/x-python",
   "name": "python",
   "nbconvert_exporter": "python",
   "pygments_lexer": "ipython3",
   "version": "3.11.5"
  }
 },
 "nbformat": 4,
 "nbformat_minor": 2
}
